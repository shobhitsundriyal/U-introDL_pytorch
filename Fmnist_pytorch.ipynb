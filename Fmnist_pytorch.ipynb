{
  "nbformat": 4,
  "nbformat_minor": 0,
  "metadata": {
    "colab": {
      "name": "Fmnist-pytorch.ipynb",
      "provenance": [],
      "authorship_tag": "ABX9TyM0RWrLDRsR2uRXpqM81cKz"
    },
    "kernelspec": {
      "name": "python3",
      "display_name": "Python 3"
    }
  },
  "cells": [
    {
      "cell_type": "code",
      "metadata": {
        "id": "p250q5eP-k77",
        "colab_type": "code",
        "colab": {}
      },
      "source": [
        "import torch\n",
        "torch.manual_seed(0)\n",
        "torch.backends.cudnn.deterministic = True\n",
        "torch.backends.cudnn.benchmark = False\n",
        "\n",
        "import numpy as np\n",
        "np.random.seed(0)"
      ],
      "execution_count": 0,
      "outputs": []
    },
    {
      "cell_type": "code",
      "metadata": {
        "id": "mBTK8Tlv_CM0",
        "colab_type": "code",
        "colab": {}
      },
      "source": [
        "from torchvisio import datasets"
      ],
      "execution_count": 0,
      "outputs": []
    }
  ]
}