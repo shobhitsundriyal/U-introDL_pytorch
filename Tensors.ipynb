{
  "nbformat": 4,
  "nbformat_minor": 0,
  "metadata": {
    "colab": {
      "name": "Tensors.ipynb",
      "version": "0.3.2",
      "provenance": [],
      "include_colab_link": true
    },
    "kernelspec": {
      "name": "python3",
      "display_name": "Python 3"
    }
  },
  "cells": [
    {
      "cell_type": "markdown",
      "metadata": {
        "id": "view-in-github",
        "colab_type": "text"
      },
      "source": [
        "<a href=\"https://colab.research.google.com/github/shobhitsundriyal/U-introDL_pytorch/blob/master/Tensors.ipynb\" target=\"_parent\"><img src=\"https://colab.research.google.com/assets/colab-badge.svg\" alt=\"Open In Colab\"/></a>"
      ]
    },
    {
      "cell_type": "code",
      "metadata": {
        "id": "6x-TJlSDN0C1",
        "colab_type": "code",
        "colab": {
          "base_uri": "https://localhost:8080/",
          "height": 52
        },
        "outputId": "912da36a-609c-454f-df2d-87655eb8b1c6"
      },
      "source": [
        "import torch\n",
        "\n",
        "v = torch.tensor([1, 2 ,3])\n",
        "print(v)\n",
        "type(v)"
      ],
      "execution_count": 1,
      "outputs": [
        {
          "output_type": "stream",
          "text": [
            "tensor([1, 2, 3])\n"
          ],
          "name": "stdout"
        },
        {
          "output_type": "execute_result",
          "data": {
            "text/plain": [
              "torch.Tensor"
            ]
          },
          "metadata": {
            "tags": []
          },
          "execution_count": 1
        }
      ]
    },
    {
      "cell_type": "code",
      "metadata": {
        "id": "k-vivwf8OE5Z",
        "colab_type": "code",
        "colab": {
          "base_uri": "https://localhost:8080/",
          "height": 34
        },
        "outputId": "6f2c105f-af5d-4a25-f246-42be83f078be"
      },
      "source": [
        "v.dtype"
      ],
      "execution_count": 3,
      "outputs": [
        {
          "output_type": "execute_result",
          "data": {
            "text/plain": [
              "torch.int64"
            ]
          },
          "metadata": {
            "tags": []
          },
          "execution_count": 3
        }
      ]
    },
    {
      "cell_type": "code",
      "metadata": {
        "id": "hr_PkznhOOEe",
        "colab_type": "code",
        "colab": {
          "base_uri": "https://localhost:8080/",
          "height": 34
        },
        "outputId": "531ef212-5c70-4e2f-f6ba-3ce1a2f866a6"
      },
      "source": [
        "v[2]"
      ],
      "execution_count": 4,
      "outputs": [
        {
          "output_type": "execute_result",
          "data": {
            "text/plain": [
              "tensor(3)"
            ]
          },
          "metadata": {
            "tags": []
          },
          "execution_count": 4
        }
      ]
    },
    {
      "cell_type": "code",
      "metadata": {
        "id": "p2x_WrRCOVuJ",
        "colab_type": "code",
        "colab": {
          "base_uri": "https://localhost:8080/",
          "height": 34
        },
        "outputId": "7e8eb22b-0664-4a4a-85b3-c9efe6a50f68"
      },
      "source": [
        "f = torch.FloatTensor([1, 2, 3, 4])\n",
        "f.dtype"
      ],
      "execution_count": 5,
      "outputs": [
        {
          "output_type": "execute_result",
          "data": {
            "text/plain": [
              "torch.float32"
            ]
          },
          "metadata": {
            "tags": []
          },
          "execution_count": 5
        }
      ]
    },
    {
      "cell_type": "code",
      "metadata": {
        "id": "TkdisCpkOqFH",
        "colab_type": "code",
        "colab": {
          "base_uri": "https://localhost:8080/",
          "height": 34
        },
        "outputId": "a59f2a59-fa78-4129-9476-3d6fa58f3435"
      },
      "source": [
        "f.size()"
      ],
      "execution_count": 7,
      "outputs": [
        {
          "output_type": "execute_result",
          "data": {
            "text/plain": [
              "torch.Size([4])"
            ]
          },
          "metadata": {
            "tags": []
          },
          "execution_count": 7
        }
      ]
    },
    {
      "cell_type": "code",
      "metadata": {
        "id": "bzRv5dsuOtGA",
        "colab_type": "code",
        "colab": {
          "base_uri": "https://localhost:8080/",
          "height": 69
        },
        "outputId": "6d9828ab-8526-4812-c94c-264b1298f3ea"
      },
      "source": [
        "v.view(3,1)"
      ],
      "execution_count": 8,
      "outputs": [
        {
          "output_type": "execute_result",
          "data": {
            "text/plain": [
              "tensor([[1],\n",
              "        [2],\n",
              "        [3]])"
            ]
          },
          "metadata": {
            "tags": []
          },
          "execution_count": 8
        }
      ]
    },
    {
      "cell_type": "code",
      "metadata": {
        "id": "EgwszkXLO0mo",
        "colab_type": "code",
        "colab": {
          "base_uri": "https://localhost:8080/",
          "height": 52
        },
        "outputId": "816e1117-0fee-4460-eac9-2dd41e428acd"
      },
      "source": [
        "import numpy as np \n",
        "\n",
        "a = np.array([1,2,3,4,5])\n",
        "t = torch.from_numpy(a) #to convert tensor to numpy array t.numpy(a)\n",
        "print(t)\n",
        "t.type()"
      ],
      "execution_count": 9,
      "outputs": [
        {
          "output_type": "stream",
          "text": [
            "tensor([1, 2, 3, 4, 5])\n"
          ],
          "name": "stdout"
        },
        {
          "output_type": "execute_result",
          "data": {
            "text/plain": [
              "'torch.LongTensor'"
            ]
          },
          "metadata": {
            "tags": []
          },
          "execution_count": 9
        }
      ]
    },
    {
      "cell_type": "code",
      "metadata": {
        "id": "4JLbsMffPa-f",
        "colab_type": "code",
        "colab": {
          "base_uri": "https://localhost:8080/",
          "height": 34
        },
        "outputId": "0a537ce6-3554-4d4d-e817-4e36602974ed"
      },
      "source": [
        "t1 = torch.tensor([1,2,3])\n",
        "t2 = torch.tensor([1,2,3])\n",
        "\n",
        "t1 + t2"
      ],
      "execution_count": 10,
      "outputs": [
        {
          "output_type": "execute_result",
          "data": {
            "text/plain": [
              "tensor([2, 4, 6])"
            ]
          },
          "metadata": {
            "tags": []
          },
          "execution_count": 10
        }
      ]
    },
    {
      "cell_type": "code",
      "metadata": {
        "id": "-j3XK8O3QHWM",
        "colab_type": "code",
        "colab": {
          "base_uri": "https://localhost:8080/",
          "height": 34
        },
        "outputId": "94fc94ae-7a2e-41d1-ea43-05fb70a92260"
      },
      "source": [
        "t1 * t2"
      ],
      "execution_count": 11,
      "outputs": [
        {
          "output_type": "execute_result",
          "data": {
            "text/plain": [
              "tensor([1, 4, 9])"
            ]
          },
          "metadata": {
            "tags": []
          },
          "execution_count": 11
        }
      ]
    },
    {
      "cell_type": "code",
      "metadata": {
        "id": "qMXUq8WbQL-M",
        "colab_type": "code",
        "colab": {
          "base_uri": "https://localhost:8080/",
          "height": 34
        },
        "outputId": "811c3b02-15a5-46ec-da52-668bc03f57ec"
      },
      "source": [
        "t1 * 10"
      ],
      "execution_count": 12,
      "outputs": [
        {
          "output_type": "execute_result",
          "data": {
            "text/plain": [
              "tensor([10, 20, 30])"
            ]
          },
          "metadata": {
            "tags": []
          },
          "execution_count": 12
        }
      ]
    },
    {
      "cell_type": "code",
      "metadata": {
        "id": "FMHJO8KgQOou",
        "colab_type": "code",
        "colab": {
          "base_uri": "https://localhost:8080/",
          "height": 34
        },
        "outputId": "181c8a67-f275-497f-c622-2e280424268c"
      },
      "source": [
        "dot_product = torch.dot(t1, t2)\n",
        "dot_product"
      ],
      "execution_count": 13,
      "outputs": [
        {
          "output_type": "execute_result",
          "data": {
            "text/plain": [
              "tensor(14)"
            ]
          },
          "metadata": {
            "tags": []
          },
          "execution_count": 13
        }
      ]
    },
    {
      "cell_type": "code",
      "metadata": {
        "id": "HXpht-niQaij",
        "colab_type": "code",
        "colab": {
          "base_uri": "https://localhost:8080/",
          "height": 276
        },
        "outputId": "f517b13d-0fc3-4fde-a091-2328bc6e8b96"
      },
      "source": [
        "torch.linspace(0,100)"
      ],
      "execution_count": 14,
      "outputs": [
        {
          "output_type": "execute_result",
          "data": {
            "text/plain": [
              "tensor([  0.0000,   1.0101,   2.0202,   3.0303,   4.0404,   5.0505,   6.0606,\n",
              "          7.0707,   8.0808,   9.0909,  10.1010,  11.1111,  12.1212,  13.1313,\n",
              "         14.1414,  15.1515,  16.1616,  17.1717,  18.1818,  19.1919,  20.2020,\n",
              "         21.2121,  22.2222,  23.2323,  24.2424,  25.2525,  26.2626,  27.2727,\n",
              "         28.2828,  29.2929,  30.3030,  31.3131,  32.3232,  33.3333,  34.3434,\n",
              "         35.3535,  36.3636,  37.3737,  38.3838,  39.3939,  40.4040,  41.4141,\n",
              "         42.4242,  43.4343,  44.4444,  45.4545,  46.4646,  47.4747,  48.4848,\n",
              "         49.4949,  50.5050,  51.5151,  52.5252,  53.5354,  54.5455,  55.5556,\n",
              "         56.5657,  57.5758,  58.5859,  59.5960,  60.6061,  61.6162,  62.6263,\n",
              "         63.6364,  64.6465,  65.6566,  66.6667,  67.6768,  68.6869,  69.6970,\n",
              "         70.7071,  71.7172,  72.7273,  73.7374,  74.7475,  75.7576,  76.7677,\n",
              "         77.7778,  78.7879,  79.7980,  80.8081,  81.8182,  82.8283,  83.8384,\n",
              "         84.8485,  85.8586,  86.8687,  87.8788,  88.8889,  89.8990,  90.9091,\n",
              "         91.9192,  92.9293,  93.9394,  94.9495,  95.9596,  96.9697,  97.9798,\n",
              "         98.9899, 100.0000])"
            ]
          },
          "metadata": {
            "tags": []
          },
          "execution_count": 14
        }
      ]
    },
    {
      "cell_type": "code",
      "metadata": {
        "id": "AAdD80C7RhyH",
        "colab_type": "code",
        "colab": {
          "base_uri": "https://localhost:8080/",
          "height": 34
        },
        "outputId": "8870c168-0b5c-4258-d6cc-6fc80706f660"
      },
      "source": [
        "torch.linspace(0,100,5)"
      ],
      "execution_count": 15,
      "outputs": [
        {
          "output_type": "execute_result",
          "data": {
            "text/plain": [
              "tensor([  0.,  25.,  50.,  75., 100.])"
            ]
          },
          "metadata": {
            "tags": []
          },
          "execution_count": 15
        }
      ]
    },
    {
      "cell_type": "code",
      "metadata": {
        "id": "tCKXQXWdRnTt",
        "colab_type": "code",
        "colab": {
          "base_uri": "https://localhost:8080/",
          "height": 286
        },
        "outputId": "1717462e-efc5-45b2-cd8c-185815f5ece5"
      },
      "source": [
        "import matplotlib.pyplot as plt\n",
        "x = torch.linspace(0,10,5)\n",
        "y = torch.exp(x)\n",
        "\n",
        "plt.plot(x.numpy(), y.numpy())"
      ],
      "execution_count": 16,
      "outputs": [
        {
          "output_type": "execute_result",
          "data": {
            "text/plain": [
              "[<matplotlib.lines.Line2D at 0x7f370d8f6f98>]"
            ]
          },
          "metadata": {
            "tags": []
          },
          "execution_count": 16
        },
        {
          "output_type": "display_data",
          "data": {
            "image/png": "[encoded data removed]",
            "text/plain": [
              "<Figure size 432x288 with 1 Axes>"
            ]
          },
          "metadata": {
            "tags": []
          }
        }
      ]
    },
    {
      "cell_type": "code",
      "metadata": {
        "id": "lzHllOl0SLyb",
        "colab_type": "code",
        "colab": {
          "base_uri": "https://localhost:8080/",
          "height": 286
        },
        "outputId": "8da45639-8a75-4e43-c8e2-053cafafa23a"
      },
      "source": [
        "x = torch.linspace(0,10,100)\n",
        "y = torch.exp(x)\n",
        "\n",
        "plt.plot(x.numpy(), y.numpy())"
      ],
      "execution_count": 17,
      "outputs": [
        {
          "output_type": "execute_result",
          "data": {
            "text/plain": [
              "[<matplotlib.lines.Line2D at 0x7f370b082c50>]"
            ]
          },
          "metadata": {
            "tags": []
          },
          "execution_count": 17
        },
        {
          "output_type": "display_data",
          "data": {
            "image/png": "[encoded data removed]",
            "text/plain": [
              "<Figure size 432x288 with 1 Axes>"
            ]
          },
          "metadata": {
            "tags": []
          }
        }
      ]
    },
    {
      "cell_type": "code",
      "metadata": {
        "id": "FBxZznFDUSKG",
        "colab_type": "code",
        "colab": {
          "base_uri": "https://localhost:8080/",
          "height": 286
        },
        "outputId": "6c972139-aca0-4549-8fe1-b52f6062337b"
      },
      "source": [
        "x = torch.linspace(0,10,50)\n",
        "y = torch.sin(x)\n",
        "\n",
        "plt.plot(x.numpy(), y.numpy())"
      ],
      "execution_count": 19,
      "outputs": [
        {
          "output_type": "execute_result",
          "data": {
            "text/plain": [
              "[<matplotlib.lines.Line2D at 0x7f370afc8518>]"
            ]
          },
          "metadata": {
            "tags": []
          },
          "execution_count": 19
        },
        {
          "output_type": "display_data",
          "data": {
            "image/png": "[encoded data removed]",
            "text/plain": [
              "<Figure size 432x288 with 1 Axes>"
            ]
          },
          "metadata": {
            "tags": []
          }
        }
      ]
    },
    {
      "cell_type": "markdown",
      "metadata": {
        "id": "PKqx4xepUctU",
        "colab_type": "text"
      },
      "source": [
        "#Now 2d"
      ]
    },
    {
      "cell_type": "code",
      "metadata": {
        "id": "FIqoWWcQUUiT",
        "colab_type": "code",
        "colab": {
          "base_uri": "https://localhost:8080/",
          "height": 34
        },
        "outputId": "a2b65179-dbee-49a1-a286-ebe2ca7b5847"
      },
      "source": [
        "one_d = torch.arange(0,9)\n",
        "one_d"
      ],
      "execution_count": 20,
      "outputs": [
        {
          "output_type": "execute_result",
          "data": {
            "text/plain": [
              "tensor([0, 1, 2, 3, 4, 5, 6, 7, 8])"
            ]
          },
          "metadata": {
            "tags": []
          },
          "execution_count": 20
        }
      ]
    },
    {
      "cell_type": "code",
      "metadata": {
        "id": "vyAH4dGPU7pF",
        "colab_type": "code",
        "colab": {
          "base_uri": "https://localhost:8080/",
          "height": 69
        },
        "outputId": "7fc10ad9-9bfb-4eee-c44e-2686ff52425a"
      },
      "source": [
        "two_d = one_d.view(3,3)\n",
        "two_d"
      ],
      "execution_count": 22,
      "outputs": [
        {
          "output_type": "execute_result",
          "data": {
            "text/plain": [
              "tensor([[0, 1, 2],\n",
              "        [3, 4, 5],\n",
              "        [6, 7, 8]])"
            ]
          },
          "metadata": {
            "tags": []
          },
          "execution_count": 22
        }
      ]
    },
    {
      "cell_type": "code",
      "metadata": {
        "id": "K_RogUBuVGLA",
        "colab_type": "code",
        "colab": {
          "base_uri": "https://localhost:8080/",
          "height": 138
        },
        "outputId": "4ca08de2-d0bd-4f70-a4a6-f699c3eeecbb"
      },
      "source": [
        "x = torch.arange(18).view(2,3,3)\n",
        "x"
      ],
      "execution_count": 23,
      "outputs": [
        {
          "output_type": "execute_result",
          "data": {
            "text/plain": [
              "tensor([[[ 0,  1,  2],\n",
              "         [ 3,  4,  5],\n",
              "         [ 6,  7,  8]],\n",
              "\n",
              "        [[ 9, 10, 11],\n",
              "         [12, 13, 14],\n",
              "         [15, 16, 17]]])"
            ]
          },
          "metadata": {
            "tags": []
          },
          "execution_count": 23
        }
      ]
    },
    {
      "cell_type": "code",
      "metadata": {
        "id": "g_nYeCKoVkVU",
        "colab_type": "code",
        "colab": {
          "base_uri": "https://localhost:8080/",
          "height": 155
        },
        "outputId": "f3aa78b5-6622-44e5-a74a-b04655b6d064"
      },
      "source": [
        "x = torch.arange(18).view(3,2,3)\n",
        "x"
      ],
      "execution_count": 24,
      "outputs": [
        {
          "output_type": "execute_result",
          "data": {
            "text/plain": [
              "tensor([[[ 0,  1,  2],\n",
              "         [ 3,  4,  5]],\n",
              "\n",
              "        [[ 6,  7,  8],\n",
              "         [ 9, 10, 11]],\n",
              "\n",
              "        [[12, 13, 14],\n",
              "         [15, 16, 17]]])"
            ]
          },
          "metadata": {
            "tags": []
          },
          "execution_count": 24
        }
      ]
    },
    {
      "cell_type": "code",
      "metadata": {
        "id": "_Ynvwf8BVum4",
        "colab_type": "code",
        "colab": {
          "base_uri": "https://localhost:8080/",
          "height": 34
        },
        "outputId": "6225f2a5-28f6-4d25-97cd-f8edcd44d8f1"
      },
      "source": [
        "x[1,1,1]"
      ],
      "execution_count": 25,
      "outputs": [
        {
          "output_type": "execute_result",
          "data": {
            "text/plain": [
              "tensor(10)"
            ]
          },
          "metadata": {
            "tags": []
          },
          "execution_count": 25
        }
      ]
    },
    {
      "cell_type": "code",
      "metadata": {
        "id": "c6jd0nB2V4_X",
        "colab_type": "code",
        "colab": {
          "base_uri": "https://localhost:8080/",
          "height": 52
        },
        "outputId": "94be3f76-c805-4fa2-a6f9-95535898a87f"
      },
      "source": [
        "x[1,0:2,0:3]"
      ],
      "execution_count": 27,
      "outputs": [
        {
          "output_type": "execute_result",
          "data": {
            "text/plain": [
              "tensor([[ 6,  7,  8],\n",
              "        [ 9, 10, 11]])"
            ]
          },
          "metadata": {
            "tags": []
          },
          "execution_count": 27
        }
      ]
    },
    {
      "cell_type": "markdown",
      "metadata": {
        "id": "bALUhc2CWHbQ",
        "colab_type": "text"
      },
      "source": [
        "#Matrix Mul"
      ]
    },
    {
      "cell_type": "code",
      "metadata": {
        "id": "t7qXMA25V_kn",
        "colab_type": "code",
        "colab": {
          "base_uri": "https://localhost:8080/",
          "height": 69
        },
        "outputId": "65b9e709-980e-4262-8c87-284fa72d4270"
      },
      "source": [
        "mat_a = torch.tensor([3,6,2,8,1,0]).view(3,2)\n",
        "mat_a"
      ],
      "execution_count": 28,
      "outputs": [
        {
          "output_type": "execute_result",
          "data": {
            "text/plain": [
              "tensor([[3, 6],\n",
              "        [2, 8],\n",
              "        [1, 0]])"
            ]
          },
          "metadata": {
            "tags": []
          },
          "execution_count": 28
        }
      ]
    },
    {
      "cell_type": "code",
      "metadata": {
        "id": "P39rpGXlWqBK",
        "colab_type": "code",
        "colab": {
          "base_uri": "https://localhost:8080/",
          "height": 52
        },
        "outputId": "92d163ff-9ea0-4e09-bbd5-0d9dcefba396"
      },
      "source": [
        "mat_b = torch.tensor([6,1,8,2,1,9]).view(2,3)\n",
        "mat_b"
      ],
      "execution_count": 29,
      "outputs": [
        {
          "output_type": "execute_result",
          "data": {
            "text/plain": [
              "tensor([[6, 1, 8],\n",
              "        [2, 1, 9]])"
            ]
          },
          "metadata": {
            "tags": []
          },
          "execution_count": 29
        }
      ]
    },
    {
      "cell_type": "code",
      "metadata": {
        "id": "BxqdmPDsWzwV",
        "colab_type": "code",
        "colab": {
          "base_uri": "https://localhost:8080/",
          "height": 69
        },
        "outputId": "76b11f80-bc31-4575-a2e8-0236a8d30629"
      },
      "source": [
        "mul = torch.matmul(mat_a, mat_b)\n",
        "mul"
      ],
      "execution_count": 30,
      "outputs": [
        {
          "output_type": "execute_result",
          "data": {
            "text/plain": [
              "tensor([[30,  9, 78],\n",
              "        [28, 10, 88],\n",
              "        [ 6,  1,  8]])"
            ]
          },
          "metadata": {
            "tags": []
          },
          "execution_count": 30
        }
      ]
    },
    {
      "cell_type": "code",
      "metadata": {
        "id": "jPefO3AQW5KF",
        "colab_type": "code",
        "colab": {
          "base_uri": "https://localhost:8080/",
          "height": 69
        },
        "outputId": "26376f3d-2b17-4c09-d3b3-541aa432afa7"
      },
      "source": [
        "#or\n",
        "mat_a @ mat_b"
      ],
      "execution_count": 31,
      "outputs": [
        {
          "output_type": "execute_result",
          "data": {
            "text/plain": [
              "tensor([[30,  9, 78],\n",
              "        [28, 10, 88],\n",
              "        [ 6,  1,  8]])"
            ]
          },
          "metadata": {
            "tags": []
          },
          "execution_count": 31
        }
      ]
    },
    {
      "cell_type": "markdown",
      "metadata": {
        "id": "4KE_OWdjXGoq",
        "colab_type": "text"
      },
      "source": [
        "#Derivatives"
      ]
    },
    {
      "cell_type": "code",
      "metadata": {
        "id": "SiFXn2SrXBuw",
        "colab_type": "code",
        "colab": {
          "base_uri": "https://localhost:8080/",
          "height": 34
        },
        "outputId": "e188f7c9-ac31-4c98-a606-d4e46984b471"
      },
      "source": [
        "x = torch.tensor(2.0, requires_grad=True)\n",
        "y = 9*x**4 + 2*x**3 + 3*x**2 + 6*x + 1\n",
        "y.backward()\n",
        "x.grad"
      ],
      "execution_count": 33,
      "outputs": [
        {
          "output_type": "execute_result",
          "data": {
            "text/plain": [
              "tensor(330.)"
            ]
          },
          "metadata": {
            "tags": []
          },
          "execution_count": 33
        }
      ]
    },
    {
      "cell_type": "code",
      "metadata": {
        "id": "Pi-TVn_aX6pG",
        "colab_type": "code",
        "colab": {}
      },
      "source": [
        "x = torch.tensor(1.0, requires_grad=True)\n",
        "z = torch.tensor(2.0, requires_grad=True)\n",
        "y = x**2 + z**3\n",
        "y.backward()"
      ],
      "execution_count": 0,
      "outputs": []
    },
    {
      "cell_type": "code",
      "metadata": {
        "id": "_gzO89fDYZNz",
        "colab_type": "code",
        "colab": {
          "base_uri": "https://localhost:8080/",
          "height": 34
        },
        "outputId": "b7233d74-9232-4403-ee29-17ca9e8d9ac5"
      },
      "source": [
        "x.grad"
      ],
      "execution_count": 35,
      "outputs": [
        {
          "output_type": "execute_result",
          "data": {
            "text/plain": [
              "tensor(2.)"
            ]
          },
          "metadata": {
            "tags": []
          },
          "execution_count": 35
        }
      ]
    },
    {
      "cell_type": "code",
      "metadata": {
        "id": "FdlOtyOrYa5E",
        "colab_type": "code",
        "colab": {
          "base_uri": "https://localhost:8080/",
          "height": 34
        },
        "outputId": "acd9154a-5e0a-4395-9402-be0ee936edbb"
      },
      "source": [
        "z.grad"
      ],
      "execution_count": 36,
      "outputs": [
        {
          "output_type": "execute_result",
          "data": {
            "text/plain": [
              "tensor(12.)"
            ]
          },
          "metadata": {
            "tags": []
          },
          "execution_count": 36
        }
      ]
    },
    {
      "cell_type": "code",
      "metadata": {
        "id": "6NUBYu8zYcKM",
        "colab_type": "code",
        "colab": {}
      },
      "source": [
        ""
      ],
      "execution_count": 0,
      "outputs": []
    }
  ]
}